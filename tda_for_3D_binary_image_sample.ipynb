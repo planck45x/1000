{
 "cells": [
  {
   "cell_type": "markdown",
   "metadata": {},
   "source": [
    "# 3D binary image analysis\n",
    "\n",
    "This sample analyzes a 50x50x50 size image. \n",
    "In this example code, we use cross-sectional images for each layer. In other words, prepare 50x50x50 images.\n",
    "The file is located in the 'data_for_3d_analysis/' directory. Name the file in the order of the sections."
   ]
  },
  {
   "cell_type": "markdown",
   "metadata": {},
   "source": [
    "## Read data file\n",
    "First, read this 50x50x50 image and make a 50x50x50 black and white array."
   ]
  },
  {
   "cell_type": "code",
   "execution_count": 9,
   "metadata": {},
   "outputs": [
    {
     "name": "stdout",
     "output_type": "stream",
     "text": [
      "Collecting homcloud"
     ]
    },
    {
     "name": "stderr",
     "output_type": "stream",
     "text": [
      "  ERROR: Command errored out with exit status 1:\n",
      "   command: 'c:\\users\\johna\\anaconda3\\python.exe' -u -c 'import io, os, sys, setuptools, tokenize; sys.argv[0] = '\"'\"'C:\\\\Users\\\\johna\\\\AppData\\\\Local\\\\Temp\\\\pip-install-mu43j7jq\\\\homcloud_92151c6afb2246a8aa47433a377c1b5e\\\\setup.py'\"'\"'; __file__='\"'\"'C:\\\\Users\\\\johna\\\\AppData\\\\Local\\\\Temp\\\\pip-install-mu43j7jq\\\\homcloud_92151c6afb2246a8aa47433a377c1b5e\\\\setup.py'\"'\"';f = getattr(tokenize, '\"'\"'open'\"'\"', open)(__file__) if os.path.exists(__file__) else io.StringIO('\"'\"'from setuptools import setup; setup()'\"'\"');code = f.read().replace('\"'\"'\\r\\n'\"'\"', '\"'\"'\\n'\"'\"');f.close();exec(compile(code, __file__, '\"'\"'exec'\"'\"'))' bdist_wheel -d 'C:\\Users\\johna\\AppData\\Local\\Temp\\pip-wheel-xfa0vs58'\n",
      "       cwd: C:\\Users\\johna\\AppData\\Local\\Temp\\pip-install-mu43j7jq\\homcloud_92151c6afb2246a8aa47433a377c1b5e\\\n",
      "  Complete output (101 lines):\n",
      "  running bdist_wheel\n",
      "  running build\n",
      "  running build_py\n",
      "  package init file 'homcloud\\__init__.py' not found (or not a regular file)\n",
      "  creating build\n",
      "  creating build\\lib.win-amd64-3.8\n",
      "  creating build\\lib.win-amd64-3.8\\homcloud\n",
      "  copying homcloud\\abstract_filtration.py -> build\\lib.win-amd64-3.8\\homcloud\n",
      "  copying homcloud\\alpha_filtration.py -> build\\lib.win-amd64-3.8\\homcloud\n",
      "  copying homcloud\\argparse_common.py -> build\\lib.win-amd64-3.8\\homcloud\n",
      "  copying homcloud\\base_filtration.py -> build\\lib.win-amd64-3.8\\homcloud\n",
      "  copying homcloud\\bitmap.py -> build\\lib.win-amd64-3.8\\homcloud\n",
      "  copying homcloud\\build_phtrees.py -> build\\lib.win-amd64-3.8\\homcloud\n",
      "  copying homcloud\\compat.py -> build\\lib.win-amd64-3.8\\homcloud\n",
      "  copying homcloud\\diagram.py -> build\\lib.win-amd64-3.8\\homcloud\n",
      "  copying homcloud\\dipha.py -> build\\lib.win-amd64-3.8\\homcloud\n",
      "  copying homcloud\\dump_diagram.py -> build\\lib.win-amd64-3.8\\homcloud\n",
      "  copying homcloud\\full_ph_tree.py -> build\\lib.win-amd64-3.8\\homcloud\n",
      "  copying homcloud\\geometry_resolver.py -> build\\lib.win-amd64-3.8\\homcloud\n",
      "  copying homcloud\\graph_optimal_one_cycle.py -> build\\lib.win-amd64-3.8\\homcloud\n",
      "  copying homcloud\\histogram.py -> build\\lib.win-amd64-3.8\\homcloud\n",
      "  copying homcloud\\idiagram2diagram.py -> build\\lib.win-amd64-3.8\\homcloud\n",
      "  copying homcloud\\index_map.py -> build\\lib.win-amd64-3.8\\homcloud\n",
      "  copying homcloud\\int_reduction.py -> build\\lib.win-amd64-3.8\\homcloud\n",
      "  copying homcloud\\license.py -> build\\lib.win-amd64-3.8\\homcloud\n",
      "  copying homcloud\\maximal_0_component.py -> build\\lib.win-amd64-3.8\\homcloud\n",
      "  copying homcloud\\modp_reduction.py -> build\\lib.win-amd64-3.8\\homcloud\n",
      "  copying homcloud\\norms_for_matplotlib.py -> build\\lib.win-amd64-3.8\\homcloud\n",
      "  copying homcloud\\numpyencoder.py -> build\\lib.win-amd64-3.8\\homcloud\n",
      "  copying homcloud\\optimal_cycle.py -> build\\lib.win-amd64-3.8\\homcloud\n",
      "  copying homcloud\\optimal_one_cycle.py -> build\\lib.win-amd64-3.8\\homcloud\n",
      "  copying homcloud\\optimal_volume.py -> build\\lib.win-amd64-3.8\\homcloud\n",
      "  copying homcloud\\optvol.py -> build\\lib.win-amd64-3.8\\homcloud\n",
      "  copying homcloud\\paraview_interface.py -> build\\lib.win-amd64-3.8\\homcloud\n",
      "  copying homcloud\\pc_alpha.py -> build\\lib.win-amd64-3.8\\homcloud\n",
      "  copying homcloud\\pdgm.py -> build\\lib.win-amd64-3.8\\homcloud\n",
      "  copying homcloud\\pdgm_format.py -> build\\lib.win-amd64-3.8\\homcloud\n",
      "  copying homcloud\\phtrees.py -> build\\lib.win-amd64-3.8\\homcloud\n",
      "  copying homcloud\\plotly_3d.py -> build\\lib.win-amd64-3.8\\homcloud\n",
      "  copying homcloud\\plot_PD.py -> build\\lib.win-amd64-3.8\\homcloud\n",
      "  copying homcloud\\plot_PD_gui.py -> build\\lib.win-amd64-3.8\\homcloud\n",
      "  copying homcloud\\plot_PD_gui_ui.py -> build\\lib.win-amd64-3.8\\homcloud\n",
      "  copying homcloud\\plot_PD_slice.py -> build\\lib.win-amd64-3.8\\homcloud\n",
      "  copying homcloud\\query_full_ph_tree.py -> build\\lib.win-amd64-3.8\\homcloud\n",
      "  copying homcloud\\query_pht.py -> build\\lib.win-amd64-3.8\\homcloud\n",
      "  copying homcloud\\resources.py -> build\\lib.win-amd64-3.8\\homcloud\n",
      "  copying homcloud\\rips.py -> build\\lib.win-amd64-3.8\\homcloud\n",
      "  copying homcloud\\self_check.py -> build\\lib.win-amd64-3.8\\homcloud\n",
      "  copying homcloud\\show_pdgm_metadata.py -> build\\lib.win-amd64-3.8\\homcloud\n",
      "  copying homcloud\\spatial_searcher.py -> build\\lib.win-amd64-3.8\\homcloud\n",
      "  copying homcloud\\utils.py -> build\\lib.win-amd64-3.8\\homcloud\n",
      "  copying homcloud\\vectorize_PD.py -> build\\lib.win-amd64-3.8\\homcloud\n",
      "  copying homcloud\\version.py -> build\\lib.win-amd64-3.8\\homcloud\n",
      "  copying homcloud\\view_index_pict.py -> build\\lib.win-amd64-3.8\\homcloud\n",
      "  copying homcloud\\view_index_pict3d.py -> build\\lib.win-amd64-3.8\\homcloud\n",
      "  copying homcloud\\view_index_pict_gui.py -> build\\lib.win-amd64-3.8\\homcloud\n",
      "  copying homcloud\\view_index_ui.py -> build\\lib.win-amd64-3.8\\homcloud\n",
      "  copying homcloud\\view_vectorized_PD.py -> build\\lib.win-amd64-3.8\\homcloud\n",
      "  copying homcloud\\visualize_3d.py -> build\\lib.win-amd64-3.8\\homcloud\n",
      "  package init file 'homcloud\\histopixels\\__init__.py' not found (or not a regular file)\n",
      "  creating build\\lib.win-amd64-3.8\\homcloud\\histopixels\n",
      "  copying homcloud\\histopixels\\detect.py -> build\\lib.win-amd64-3.8\\homcloud\\histopixels\n",
      "  copying homcloud\\histopixels\\histo.py -> build\\lib.win-amd64-3.8\\homcloud\\histopixels\n",
      "  copying homcloud\\histopixels\\mixed_gaussian.py -> build\\lib.win-amd64-3.8\\homcloud\\histopixels\n",
      "  copying homcloud\\histopixels\\plotting.py -> build\\lib.win-amd64-3.8\\homcloud\\histopixels\n",
      "  package init file 'homcloud\\pict\\__init__.py' not found (or not a regular file)\n",
      "  creating build\\lib.win-amd64-3.8\\homcloud\\pict\n",
      "  copying homcloud\\pict\\binarize_nd.py -> build\\lib.win-amd64-3.8\\homcloud\\pict\n",
      "  copying homcloud\\pict\\distance_transform.py -> build\\lib.win-amd64-3.8\\homcloud\\pict\n",
      "  copying homcloud\\pict\\optimal_one_cycle.py -> build\\lib.win-amd64-3.8\\homcloud\\pict\n",
      "  copying homcloud\\pict\\pict3d_vtk.py -> build\\lib.win-amd64-3.8\\homcloud\\pict\n",
      "  copying homcloud\\pict\\pixel_levelset_nd.py -> build\\lib.win-amd64-3.8\\homcloud\\pict\n",
      "  copying homcloud\\pict\\show_volume_2d.py -> build\\lib.win-amd64-3.8\\homcloud\\pict\n",
      "  copying homcloud\\pict\\slice3d.py -> build\\lib.win-amd64-3.8\\homcloud\\pict\n",
      "  copying homcloud\\pict\\to_npy.py -> build\\lib.win-amd64-3.8\\homcloud\\pict\n",
      "  copying homcloud\\pict\\tree.py -> build\\lib.win-amd64-3.8\\homcloud\\pict\n",
      "  copying homcloud\\pict\\utils.py -> build\\lib.win-amd64-3.8\\homcloud\\pict\n",
      "  package init file 'homcloud\\deprecated\\__init__.py' not found (or not a regular file)\n",
      "  creating build\\lib.win-amd64-3.8\\homcloud\\deprecated\n",
      "  copying homcloud\\deprecated\\dump_diagram.py -> build\\lib.win-amd64-3.8\\homcloud\\deprecated\n",
      "  copying homcloud\\deprecated\\full_ph_tree.py -> build\\lib.win-amd64-3.8\\homcloud\\deprecated\n",
      "  copying homcloud\\deprecated\\query_full_ph_tree.py -> build\\lib.win-amd64-3.8\\homcloud\\deprecated\n",
      "  copying homcloud\\deprecated\\query_pht.py -> build\\lib.win-amd64-3.8\\homcloud\\deprecated\n",
      "  creating build\\lib.win-amd64-3.8\\homcloud\\interface\n",
      "  copying homcloud\\interface\\bitmap.py -> build\\lib.win-amd64-3.8\\homcloud\\interface\n",
      "  copying homcloud\\interface\\bitmap_optimal_1_cycle.py -> build\\lib.win-amd64-3.8\\homcloud\\interface\n",
      "  copying homcloud\\interface\\bitmap_phtrees.py -> build\\lib.win-amd64-3.8\\homcloud\\interface\n",
      "  copying homcloud\\interface\\boundary_map_optimal_1_cycle.py -> build\\lib.win-amd64-3.8\\homcloud\\interface\n",
      "  copying homcloud\\interface\\distance.py -> build\\lib.win-amd64-3.8\\homcloud\\interface\n",
      "  copying homcloud\\interface\\distance_transform.py -> build\\lib.win-amd64-3.8\\homcloud\\interface\n",
      "  copying homcloud\\interface\\exceptions.py -> build\\lib.win-amd64-3.8\\homcloud\\interface\n",
      "  copying homcloud\\interface\\graph_optimal_1_cycle.py -> build\\lib.win-amd64-3.8\\homcloud\\interface\n",
      "  copying homcloud\\interface\\histogram.py -> build\\lib.win-amd64-3.8\\homcloud\\interface\n",
      "  copying homcloud\\interface\\optimal_volume.py -> build\\lib.win-amd64-3.8\\homcloud\\interface\n",
      "  copying homcloud\\interface\\pd.py -> build\\lib.win-amd64-3.8\\homcloud\\interface\n",
      "  copying homcloud\\interface\\ph0_component.py -> build\\lib.win-amd64-3.8\\homcloud\\interface\n",
      "  copying homcloud\\interface\\phtrees.py -> build\\lib.win-amd64-3.8\\homcloud\\interface\n",
      "  copying homcloud\\interface\\__init__.py -> build\\lib.win-amd64-3.8\\homcloud\\interface\n",
      "  running build_ext\n",
      "  building 'homcloud.modp_reduction_ext' extension\n",
      "  error: Microsoft Visual C++ 14.0 or greater is required. Get it with \"Microsoft C++ Build Tools\": https://visualstudio.microsoft.com/visual-cpp-build-tools/\n",
      "  ----------------------------------------\n",
      "  ERROR: Failed building wheel for homcloud\n",
      "    ERROR: Command errored out with exit status 1:\n",
      "     command: 'c:\\users\\johna\\anaconda3\\python.exe' -u -c 'import io, os, sys, setuptools, tokenize; sys.argv[0] = '\"'\"'C:\\\\Users\\\\johna\\\\AppData\\\\Local\\\\Temp\\\\pip-install-mu43j7jq\\\\homcloud_92151c6afb2246a8aa47433a377c1b5e\\\\setup.py'\"'\"'; __file__='\"'\"'C:\\\\Users\\\\johna\\\\AppData\\\\Local\\\\Temp\\\\pip-install-mu43j7jq\\\\homcloud_92151c6afb2246a8aa47433a377c1b5e\\\\setup.py'\"'\"';f = getattr(tokenize, '\"'\"'open'\"'\"', open)(__file__) if os.path.exists(__file__) else io.StringIO('\"'\"'from setuptools import setup; setup()'\"'\"');code = f.read().replace('\"'\"'\\r\\n'\"'\"', '\"'\"'\\n'\"'\"');f.close();exec(compile(code, __file__, '\"'\"'exec'\"'\"'))' install --record 'C:\\Users\\johna\\AppData\\Local\\Temp\\pip-record-_x28qa1l\\install-record.txt' --single-version-externally-managed --compile --install-headers 'c:\\users\\johna\\anaconda3\\Include\\homcloud'\n",
      "         cwd: C:\\Users\\johna\\AppData\\Local\\Temp\\pip-install-mu43j7jq\\homcloud_92151c6afb2246a8aa47433a377c1b5e\\\n",
      "    Complete output (101 lines):\n",
      "    running install\n",
      "    running build\n",
      "    running build_py\n",
      "    package init file 'homcloud\\__init__.py' not found (or not a regular file)\n",
      "    creating build\n",
      "    creating build\\lib.win-amd64-3.8\n",
      "    creating build\\lib.win-amd64-3.8\\homcloud\n",
      "    copying homcloud\\abstract_filtration.py -> build\\lib.win-amd64-3.8\\homcloud\n",
      "    copying homcloud\\alpha_filtration.py -> build\\lib.win-amd64-3.8\\homcloud\n",
      "    copying homcloud\\argparse_common.py -> build\\lib.win-amd64-3.8\\homcloud\n",
      "    copying homcloud\\base_filtration.py -> build\\lib.win-amd64-3.8\\homcloud\n",
      "    copying homcloud\\bitmap.py -> build\\lib.win-amd64-3.8\\homcloud\n",
      "    copying homcloud\\build_phtrees.py -> build\\lib.win-amd64-3.8\\homcloud\n",
      "    copying homcloud\\compat.py -> build\\lib.win-amd64-3.8\\homcloud\n",
      "    copying homcloud\\diagram.py -> build\\lib.win-amd64-3.8\\homcloud\n",
      "    copying homcloud\\dipha.py -> build\\lib.win-amd64-3.8\\homcloud\n",
      "    copying homcloud\\dump_diagram.py -> build\\lib.win-amd64-3.8\\homcloud\n",
      "    copying homcloud\\full_ph_tree.py -> build\\lib.win-amd64-3.8\\homcloud\n",
      "    copying homcloud\\geometry_resolver.py -> build\\lib.win-amd64-3.8\\homcloud\n",
      "    copying homcloud\\graph_optimal_one_cycle.py -> build\\lib.win-amd64-3.8\\homcloud\n",
      "    copying homcloud\\histogram.py -> build\\lib.win-amd64-3.8\\homcloud\n",
      "    copying homcloud\\idiagram2diagram.py -> build\\lib.win-amd64-3.8\\homcloud\n",
      "    copying homcloud\\index_map.py -> build\\lib.win-amd64-3.8\\homcloud\n",
      "    copying homcloud\\int_reduction.py -> build\\lib.win-amd64-3.8\\homcloud\n",
      "    copying homcloud\\license.py -> build\\lib.win-amd64-3.8\\homcloud\n",
      "    copying homcloud\\maximal_0_component.py -> build\\lib.win-amd64-3.8\\homcloud\n",
      "    copying homcloud\\modp_reduction.py -> build\\lib.win-amd64-3.8\\homcloud\n",
      "    copying homcloud\\norms_for_matplotlib.py -> build\\lib.win-amd64-3.8\\homcloud\n",
      "    copying homcloud\\numpyencoder.py -> build\\lib.win-amd64-3.8\\homcloud\n",
      "    copying homcloud\\optimal_cycle.py -> build\\lib.win-amd64-3.8\\homcloud\n",
      "    copying homcloud\\optimal_one_cycle.py -> build\\lib.win-amd64-3.8\\homcloud\n",
      "    copying homcloud\\optimal_volume.py -> build\\lib.win-amd64-3.8\\homcloud\n",
      "    copying homcloud\\optvol.py -> build\\lib.win-amd64-3.8\\homcloud\n",
      "    copying homcloud\\paraview_interface.py -> build\\lib.win-amd64-3.8\\homcloud\n",
      "    copying homcloud\\pc_alpha.py -> build\\lib.win-amd64-3.8\\homcloud\n",
      "    copying homcloud\\pdgm.py -> build\\lib.win-amd64-3.8\\homcloud\n",
      "    copying homcloud\\pdgm_format.py -> build\\lib.win-amd64-3.8\\homcloud\n",
      "    copying homcloud\\phtrees.py -> build\\lib.win-amd64-3.8\\homcloud\n",
      "    copying homcloud\\plotly_3d.py -> build\\lib.win-amd64-3.8\\homcloud\n",
      "    copying homcloud\\plot_PD.py -> build\\lib.win-amd64-3.8\\homcloud\n",
      "    copying homcloud\\plot_PD_gui.py -> build\\lib.win-amd64-3.8\\homcloud\n",
      "    copying homcloud\\plot_PD_gui_ui.py -> build\\lib.win-amd64-3.8\\homcloud\n",
      "    copying homcloud\\plot_PD_slice.py -> build\\lib.win-amd64-3.8\\homcloud\n",
      "    copying homcloud\\query_full_ph_tree.py -> build\\lib.win-amd64-3.8\\homcloud\n",
      "    copying homcloud\\query_pht.py -> build\\lib.win-amd64-3.8\\homcloud\n",
      "    copying homcloud\\resources.py -> build\\lib.win-amd64-3.8\\homcloud\n",
      "    copying homcloud\\rips.py -> build\\lib.win-amd64-3.8\\homcloud\n",
      "    copying homcloud\\self_check.py -> build\\lib.win-amd64-3.8\\homcloud\n",
      "    copying homcloud\\show_pdgm_metadata.py -> build\\lib.win-amd64-3.8\\homcloud\n",
      "    copying homcloud\\spatial_searcher.py -> build\\lib.win-amd64-3.8\\homcloud\n",
      "    copying homcloud\\utils.py -> build\\lib.win-amd64-3.8\\homcloud\n",
      "    copying homcloud\\vectorize_PD.py -> build\\lib.win-amd64-3.8\\homcloud\n",
      "    copying homcloud\\version.py -> build\\lib.win-amd64-3.8\\homcloud\n",
      "    copying homcloud\\view_index_pict.py -> build\\lib.win-amd64-3.8\\homcloud\n",
      "    copying homcloud\\view_index_pict3d.py -> build\\lib.win-amd64-3.8\\homcloud\n",
      "    copying homcloud\\view_index_pict_gui.py -> build\\lib.win-amd64-3.8\\homcloud\n",
      "    copying homcloud\\view_index_ui.py -> build\\lib.win-amd64-3.8\\homcloud\n",
      "    copying homcloud\\view_vectorized_PD.py -> build\\lib.win-amd64-3.8\\homcloud\n",
      "    copying homcloud\\visualize_3d.py -> build\\lib.win-amd64-3.8\\homcloud\n",
      "    package init file 'homcloud\\histopixels\\__init__.py' not found (or not a regular file)\n",
      "    creating build\\lib.win-amd64-3.8\\homcloud\\histopixels\n",
      "    copying homcloud\\histopixels\\detect.py -> build\\lib.win-amd64-3.8\\homcloud\\histopixels\n",
      "    copying homcloud\\histopixels\\histo.py -> build\\lib.win-amd64-3.8\\homcloud\\histopixels\n",
      "    copying homcloud\\histopixels\\mixed_gaussian.py -> build\\lib.win-amd64-3.8\\homcloud\\histopixels\n",
      "    copying homcloud\\histopixels\\plotting.py -> build\\lib.win-amd64-3.8\\homcloud\\histopixels\n",
      "    package init file 'homcloud\\pict\\__init__.py' not found (or not a regular file)\n",
      "    creating build\\lib.win-amd64-3.8\\homcloud\\pict\n",
      "    copying homcloud\\pict\\binarize_nd.py -> build\\lib.win-amd64-3.8\\homcloud\\pict\n",
      "    copying homcloud\\pict\\distance_transform.py -> build\\lib.win-amd64-3.8\\homcloud\\pict\n",
      "    copying homcloud\\pict\\optimal_one_cycle.py -> build\\lib.win-amd64-3.8\\homcloud\\pict\n",
      "    copying homcloud\\pict\\pict3d_vtk.py -> build\\lib.win-amd64-3.8\\homcloud\\pict\n",
      "    copying homcloud\\pict\\pixel_levelset_nd.py -> build\\lib.win-amd64-3.8\\homcloud\\pict\n",
      "    copying homcloud\\pict\\show_volume_2d.py -> build\\lib.win-amd64-3.8\\homcloud\\pict\n",
      "    copying homcloud\\pict\\slice3d.py -> build\\lib.win-amd64-3.8\\homcloud\\pict\n",
      "    copying homcloud\\pict\\to_npy.py -> build\\lib.win-amd64-3.8\\homcloud\\pict\n",
      "    copying homcloud\\pict\\tree.py -> build\\lib.win-amd64-3.8\\homcloud\\pict\n",
      "    copying homcloud\\pict\\utils.py -> build\\lib.win-amd64-3.8\\homcloud\\pict\n",
      "    package init file 'homcloud\\deprecated\\__init__.py' not found (or not a regular file)\n",
      "    creating build\\lib.win-amd64-3.8\\homcloud\\deprecated\n",
      "    copying homcloud\\deprecated\\dump_diagram.py -> build\\lib.win-amd64-3.8\\homcloud\\deprecated\n",
      "    copying homcloud\\deprecated\\full_ph_tree.py -> build\\lib.win-amd64-3.8\\homcloud\\deprecated\n",
      "    copying homcloud\\deprecated\\query_full_ph_tree.py -> build\\lib.win-amd64-3.8\\homcloud\\deprecated\n",
      "    copying homcloud\\deprecated\\query_pht.py -> build\\lib.win-amd64-3.8\\homcloud\\deprecated\n",
      "    creating build\\lib.win-amd64-3.8\\homcloud\\interface\n",
      "    copying homcloud\\interface\\bitmap.py -> build\\lib.win-amd64-3.8\\homcloud\\interface\n",
      "    copying homcloud\\interface\\bitmap_optimal_1_cycle.py -> build\\lib.win-amd64-3.8\\homcloud\\interface\n",
      "    copying homcloud\\interface\\bitmap_phtrees.py -> build\\lib.win-amd64-3.8\\homcloud\\interface\n",
      "    copying homcloud\\interface\\boundary_map_optimal_1_cycle.py -> build\\lib.win-amd64-3.8\\homcloud\\interface\n",
      "    copying homcloud\\interface\\distance.py -> build\\lib.win-amd64-3.8\\homcloud\\interface\n",
      "    copying homcloud\\interface\\distance_transform.py -> build\\lib.win-amd64-3.8\\homcloud\\interface\n",
      "    copying homcloud\\interface\\exceptions.py -> build\\lib.win-amd64-3.8\\homcloud\\interface\n",
      "    copying homcloud\\interface\\graph_optimal_1_cycle.py -> build\\lib.win-amd64-3.8\\homcloud\\interface\n",
      "    copying homcloud\\interface\\histogram.py -> build\\lib.win-amd64-3.8\\homcloud\\interface\n",
      "    copying homcloud\\interface\\optimal_volume.py -> build\\lib.win-amd64-3.8\\homcloud\\interface\n",
      "    copying homcloud\\interface\\pd.py -> build\\lib.win-amd64-3.8\\homcloud\\interface\n",
      "    copying homcloud\\interface\\ph0_component.py -> build\\lib.win-amd64-3.8\\homcloud\\interface\n",
      "    copying homcloud\\interface\\phtrees.py -> build\\lib.win-amd64-3.8\\homcloud\\interface\n",
      "    copying homcloud\\interface\\__init__.py -> build\\lib.win-amd64-3.8\\homcloud\\interface\n",
      "    running build_ext\n",
      "    building 'homcloud.modp_reduction_ext' extension\n",
      "    error: Microsoft Visual C++ 14.0 or greater is required. Get it with \"Microsoft C++ Build Tools\": https://visualstudio.microsoft.com/visual-cpp-build-tools/\n",
      "    ----------------------------------------\n",
      "ERROR: Command errored out with exit status 1: 'c:\\users\\johna\\anaconda3\\python.exe' -u -c 'import io, os, sys, setuptools, tokenize; sys.argv[0] = '\"'\"'C:\\\\Users\\\\johna\\\\AppData\\\\Local\\\\Temp\\\\pip-install-mu43j7jq\\\\homcloud_92151c6afb2246a8aa47433a377c1b5e\\\\setup.py'\"'\"'; __file__='\"'\"'C:\\\\Users\\\\johna\\\\AppData\\\\Local\\\\Temp\\\\pip-install-mu43j7jq\\\\homcloud_92151c6afb2246a8aa47433a377c1b5e\\\\setup.py'\"'\"';f = getattr(tokenize, '\"'\"'open'\"'\"', open)(__file__) if os.path.exists(__file__) else io.StringIO('\"'\"'from setuptools import setup; setup()'\"'\"');code = f.read().replace('\"'\"'\\r\\n'\"'\"', '\"'\"'\\n'\"'\"');f.close();exec(compile(code, __file__, '\"'\"'exec'\"'\"'))' install --record 'C:\\Users\\johna\\AppData\\Local\\Temp\\pip-record-_x28qa1l\\install-record.txt' --single-version-externally-managed --compile --install-headers 'c:\\users\\johna\\anaconda3\\Include\\homcloud' Check the logs for full command output.\n"
     ]
    },
    {
     "name": "stdout",
     "output_type": "stream",
     "text": [
      "\n",
      "  Downloading homcloud-3.4.1.tar.gz (961 kB)\n",
      "Requirement already satisfied: numpy in c:\\users\\johna\\anaconda3\\lib\\site-packages (from homcloud) (1.19.2)\n",
      "Requirement already satisfied: matplotlib in c:\\users\\johna\\anaconda3\\lib\\site-packages (from homcloud) (3.3.2)\n",
      "Requirement already satisfied: scipy in c:\\users\\johna\\anaconda3\\lib\\site-packages (from homcloud) (1.5.2)\n",
      "Requirement already satisfied: scikit-learn in c:\\users\\johna\\anaconda3\\lib\\site-packages (from homcloud) (0.23.2)\n",
      "Requirement already satisfied: msgpack in c:\\users\\johna\\anaconda3\\lib\\site-packages (from homcloud) (1.0.0)\n",
      "Requirement already satisfied: Pillow in c:\\users\\johna\\anaconda3\\lib\\site-packages (from homcloud) (8.0.1)\n",
      "Collecting pulp\n",
      "  Downloading PuLP-2.4-py3-none-any.whl (40.6 MB)\n",
      "Collecting forwardable\n",
      "  Downloading forwardable-0.4.1.tar.gz (5.1 kB)\n",
      "Requirement already satisfied: imageio in c:\\users\\johna\\anaconda3\\lib\\site-packages (from homcloud) (2.9.0)\n",
      "Requirement already satisfied: Cython in c:\\users\\johna\\anaconda3\\lib\\site-packages (from homcloud) (0.29.21)\n",
      "Collecting ripser\n",
      "  Downloading ripser-0.6.0-cp38-cp38-win_amd64.whl (70 kB)\n",
      "Collecting cached-property\n",
      "  Downloading cached_property-1.5.2-py2.py3-none-any.whl (7.6 kB)\n",
      "Collecting plotly\n",
      "  Downloading plotly-5.1.0-py2.py3-none-any.whl (20.6 MB)\n",
      "Requirement already satisfied: cycler>=0.10 in c:\\users\\johna\\anaconda3\\lib\\site-packages (from matplotlib->homcloud) (0.10.0)\n",
      "Requirement already satisfied: kiwisolver>=1.0.1 in c:\\users\\johna\\anaconda3\\lib\\site-packages (from matplotlib->homcloud) (1.3.0)\n",
      "Requirement already satisfied: pyparsing!=2.0.4,!=2.1.2,!=2.1.6,>=2.0.3 in c:\\users\\johna\\anaconda3\\lib\\site-packages (from matplotlib->homcloud) (2.4.7)\n",
      "Requirement already satisfied: python-dateutil>=2.1 in c:\\users\\johna\\anaconda3\\lib\\site-packages (from matplotlib->homcloud) (2.8.1)\n",
      "Requirement already satisfied: certifi>=2020.06.20 in c:\\users\\johna\\anaconda3\\lib\\site-packages (from matplotlib->homcloud) (2020.6.20)\n",
      "Requirement already satisfied: six in c:\\users\\johna\\anaconda3\\lib\\site-packages (from cycler>=0.10->matplotlib->homcloud) (1.15.0)\n",
      "Collecting tenacity>=6.2.0\n",
      "  Downloading tenacity-8.0.1-py3-none-any.whl (24 kB)\n",
      "Collecting amply>=0.1.2\n",
      "  Downloading amply-0.1.4-py3-none-any.whl (16 kB)\n",
      "Requirement already satisfied: docutils>=0.3 in c:\\users\\johna\\anaconda3\\lib\\site-packages (from amply>=0.1.2->pulp->homcloud) (0.16)\n",
      "Collecting persim\n",
      "  Downloading persim-0.3.1-py3-none-any.whl (47 kB)\n",
      "Requirement already satisfied: joblib in c:\\users\\johna\\anaconda3\\lib\\site-packages (from persim->ripser->homcloud) (0.17.0)\n",
      "Collecting hopcroftkarp\n",
      "  Downloading hopcroftkarp-1.2.5.tar.gz (16 kB)\n",
      "Collecting deprecated\n",
      "  Downloading Deprecated-1.2.12-py2.py3-none-any.whl (9.5 kB)\n",
      "Requirement already satisfied: wrapt<2,>=1.10 in c:\\users\\johna\\anaconda3\\lib\\site-packages (from deprecated->persim->ripser->homcloud) (1.11.2)\n",
      "Requirement already satisfied: threadpoolctl>=2.0.0 in c:\\users\\johna\\anaconda3\\lib\\site-packages (from scikit-learn->homcloud) (2.1.0)\n",
      "Building wheels for collected packages: homcloud, forwardable, hopcroftkarp\n",
      "  Building wheel for homcloud (setup.py): started\n",
      "  Building wheel for homcloud (setup.py): finished with status 'error'\n",
      "  Running setup.py clean for homcloud\n",
      "  Building wheel for forwardable (setup.py): started\n",
      "  Building wheel for forwardable (setup.py): finished with status 'done'\n",
      "  Created wheel for forwardable: filename=forwardable-0.4.1-py3-none-any.whl size=6245 sha256=bae828dea44020be46b9920fcfcc8d7f64c4a0be925f6afadba336dcb55a39fe\n",
      "  Stored in directory: c:\\users\\johna\\appdata\\local\\pip\\cache\\wheels\\5f\\8b\\11\\f821f6afc313dcd2f6b6d4144ab33bd1fd47fc64a03dedef91\n",
      "  Building wheel for hopcroftkarp (setup.py): started\n",
      "  Building wheel for hopcroftkarp (setup.py): finished with status 'done'\n",
      "  Created wheel for hopcroftkarp: filename=hopcroftkarp-1.2.5-py2.py3-none-any.whl size=18096 sha256=df23b68262ae99e4ce92e843c16ea18335628678a4e92be7060e299002270c67\n",
      "  Stored in directory: c:\\users\\johna\\appdata\\local\\pip\\cache\\wheels\\fb\\f7\\29\\5c31600b478c23a3793be7cea9889d5eccb1e7ef40fef5e34e\n",
      "Successfully built forwardable hopcroftkarp\n",
      "Failed to build homcloud\n",
      "Installing collected packages: hopcroftkarp, deprecated, tenacity, persim, amply, ripser, pulp, plotly, forwardable, cached-property, homcloud\n",
      "    Running setup.py install for homcloud: started\n",
      "    Running setup.py install for homcloud: finished with status 'error'\n"
     ]
    }
   ],
   "source": [
    "# Loading required libraries\n",
    "import imageio\n",
    "import numpy as np\n",
    "import matplotlib.pyplot as plt\n",
    "%matplotlib inline\n",
    "!pip install homcloud"
   ]
  },
  {
   "cell_type": "code",
   "execution_count": 5,
   "metadata": {},
   "outputs": [
    {
     "data": {
      "text/plain": [
       "((50, 50), dtype('uint8'), 255, 0)"
      ]
     },
     "execution_count": 5,
     "metadata": {},
     "output_type": "execute_result"
    }
   ],
   "source": [
    "image_0000 = imageio.imread(\"C:\\Users\\johna\\Documents\\samples\\samples\\data_for_3d_analysis\\0000.png\")\n",
    "image_0000.shape, image_0000.dtype, np.max(image_0000), np.min(image_0000)"
   ]
  },
  {
   "cell_type": "code",
   "execution_count": 6,
   "metadata": {},
   "outputs": [],
   "source": [
    "pict = np.stack([\n",
    "    imageio.imread(\"C:\\Users\\johna\\Documents\\samples\\samples\\data_for_3d_analysis\\{:04d}.png\".format(n)) > 128\n",
    "    for n in range(50) \n",
    "], axis=0)"
   ]
  },
  {
   "cell_type": "markdown",
   "metadata": {},
   "source": [
    "Let's visualize this in 3D. by using the `plotly.graph_objects` and\n",
    "`homcloud.plotly_3d` module.\n",
    "See[API documentation](http://homcloud.dev/python-api/plotly_3d.html) for details. The VoxelData class is mainly used. "
   ]
  },
  {
   "cell_type": "code",
   "execution_count": 7,
   "metadata": {},
   "outputs": [
    {
     "ename": "ModuleNotFoundError",
     "evalue": "No module named 'homcloud'",
     "output_type": "error",
     "traceback": [
      "\u001b[1;31m---------------------------------------------------------------------------\u001b[0m",
      "\u001b[1;31mModuleNotFoundError\u001b[0m                       Traceback (most recent call last)",
      "\u001b[1;32m<ipython-input-7-c4b6b2849848>\u001b[0m in \u001b[0;36m<module>\u001b[1;34m\u001b[0m\n\u001b[1;32m----> 1\u001b[1;33m \u001b[1;32mimport\u001b[0m \u001b[0mhomcloud\u001b[0m\u001b[1;33m.\u001b[0m\u001b[0mplotly_3d\u001b[0m \u001b[1;32mas\u001b[0m \u001b[0mp3d\u001b[0m\u001b[1;33m\u001b[0m\u001b[1;33m\u001b[0m\u001b[0m\n\u001b[0m\u001b[0;32m      2\u001b[0m \u001b[1;32mimport\u001b[0m \u001b[0mplotly\u001b[0m\u001b[1;33m.\u001b[0m\u001b[0mgraph_objects\u001b[0m \u001b[1;32mas\u001b[0m \u001b[0mgo\u001b[0m\u001b[1;33m\u001b[0m\u001b[1;33m\u001b[0m\u001b[0m\n",
      "\u001b[1;31mModuleNotFoundError\u001b[0m: No module named 'homcloud'"
     ]
    }
   ],
   "source": [
    "import homcloud.plotly_3d as p3d\n",
    "import plotly.graph_objects as go"
   ]
  },
  {
   "cell_type": "code",
   "execution_count": 8,
   "metadata": {},
   "outputs": [
    {
     "ename": "NameError",
     "evalue": "name 'go' is not defined",
     "output_type": "error",
     "traceback": [
      "\u001b[1;31m---------------------------------------------------------------------------\u001b[0m",
      "\u001b[1;31mNameError\u001b[0m                                 Traceback (most recent call last)",
      "\u001b[1;32m<ipython-input-8-32cf3c4180e1>\u001b[0m in \u001b[0;36m<module>\u001b[1;34m\u001b[0m\n\u001b[1;32m----> 1\u001b[1;33m \u001b[0mfig\u001b[0m \u001b[1;33m=\u001b[0m \u001b[0mgo\u001b[0m\u001b[1;33m.\u001b[0m\u001b[0mFigure\u001b[0m\u001b[1;33m(\u001b[0m\u001b[0mdata\u001b[0m\u001b[1;33m=\u001b[0m\u001b[1;33m[\u001b[0m\u001b[0mp3d\u001b[0m\u001b[1;33m.\u001b[0m\u001b[0mBitmap3d\u001b[0m\u001b[1;33m(\u001b[0m\u001b[0mpict\u001b[0m\u001b[1;33m)\u001b[0m\u001b[1;33m]\u001b[0m\u001b[1;33m,\u001b[0m \u001b[0mlayout\u001b[0m\u001b[1;33m=\u001b[0m\u001b[0mdict\u001b[0m\u001b[1;33m(\u001b[0m\u001b[0mscene\u001b[0m\u001b[1;33m=\u001b[0m\u001b[0mp3d\u001b[0m\u001b[1;33m.\u001b[0m\u001b[0mSimpleScene\u001b[0m\u001b[1;33m(\u001b[0m\u001b[1;33m)\u001b[0m\u001b[1;33m)\u001b[0m\u001b[1;33m)\u001b[0m\u001b[1;33m\u001b[0m\u001b[1;33m\u001b[0m\u001b[0m\n\u001b[0m\u001b[0;32m      2\u001b[0m \u001b[0mfig\u001b[0m\u001b[1;33m.\u001b[0m\u001b[0mupdate_traces\u001b[0m\u001b[1;33m(\u001b[0m\u001b[0mopacity\u001b[0m\u001b[1;33m=\u001b[0m\u001b[1;36m0.5\u001b[0m\u001b[1;33m,\u001b[0m \u001b[0mselector\u001b[0m\u001b[1;33m=\u001b[0m\u001b[0mdict\u001b[0m\u001b[1;33m(\u001b[0m\u001b[0mtype\u001b[0m\u001b[1;33m=\u001b[0m\u001b[1;34m\"mesh3d\"\u001b[0m\u001b[1;33m)\u001b[0m\u001b[1;33m)\u001b[0m\u001b[1;33m\u001b[0m\u001b[1;33m\u001b[0m\u001b[0m\n\u001b[0;32m      3\u001b[0m \u001b[0mfig\u001b[0m\u001b[1;33m.\u001b[0m\u001b[0mshow\u001b[0m\u001b[1;33m(\u001b[0m\u001b[1;33m)\u001b[0m\u001b[1;33m\u001b[0m\u001b[1;33m\u001b[0m\u001b[0m\n",
      "\u001b[1;31mNameError\u001b[0m: name 'go' is not defined"
     ]
    }
   ],
   "source": [
    "fig = go.Figure(data=[p3d.Bitmap3d(pict)], layout=dict(scene=p3d.SimpleScene()))\n",
    "fig.update_traces(opacity=0.5, selector=dict(type=\"mesh3d\"))\n",
    "fig.show()"
   ]
  },
  {
   "cell_type": "markdown",
   "metadata": {},
   "source": [
    "## Calculation of persistence diagram\n",
    "Calculate persistence diagram. Use `hc.PDList.from_bitmap_distance_function`."
   ]
  },
  {
   "cell_type": "code",
   "execution_count": 6,
   "metadata": {},
   "outputs": [],
   "source": [
    "import homcloud.interface as hc"
   ]
  },
  {
   "cell_type": "code",
   "execution_count": 7,
   "metadata": {},
   "outputs": [],
   "source": [
    "pdlist = hc.PDList.from_bitmap_levelset(hc.distance_transform(pict, signed=True), save_to=\"binary-3d.pdgm\")"
   ]
  },
  {
   "cell_type": "markdown",
   "metadata": {},
   "source": [
    "You can also load the file as follows."
   ]
  },
  {
   "cell_type": "code",
   "execution_count": 8,
   "metadata": {},
   "outputs": [],
   "source": [
    "pdlist = hc.PDList(\"binary-3d.pdgm\")"
   ]
  },
  {
   "cell_type": "markdown",
   "metadata": {},
   "source": [
    "## Analysis of persistence diagram(0th) and its inverse analysis\n",
    "\n",
    "Let's analyze the 0th-order persistence diagram.\n",
    "\n",
    "First, plot a 0th-order persistence diagram."
   ]
  },
  {
   "cell_type": "code",
   "execution_count": 9,
   "metadata": {},
   "outputs": [
    {
     "data": {
      "image/png": "[encoded data removed]",
      "text/plain": [
       "<Figure size 432x288 with 2 Axes>"
      ]
     },
     "metadata": {
      "needs_background": "light"
     },
     "output_type": "display_data"
    }
   ],
   "source": [
    "pd0 = pdlist.dth_diagram(0)\n",
    "pd0.histogram((-20.5, 20.5), 41).plot(colorbar={\"type\": \"log\"})"
   ]
  },
  {
   "cell_type": "markdown",
   "metadata": {},
   "source": [
    "Let's take a closer look at the two birth-death pairs, `(-16.0, -10.0), (-15.0, -10.0)`. Use a class called `BitmapPHTrees` for the 0th and 2nd order inverse analysis of voxel data(it cannot be used for the 1st order, so we used the `optimal_1_cycle` described above instead).\n",
    "`BitmapPHTrees.for_bitmap_levelset` has an interface similar to `PDList.from_bitmap_levelset`, calculate information for back analysis.\n",
    "\n",
    "The name PHTrees means that what is computed here is a tree structure.\n",
    "`BitmapPHTrees.for_bitmap_levelset` simulateneously computes two forests for \n",
    "the information of 0th and (n-1)th PH of an n dimensional bitmap."
   ]
  },
  {
   "cell_type": "code",
   "execution_count": 10,
   "metadata": {},
   "outputs": [
    {
     "data": {
      "text/plain": [
       "PDList(path=binary-3d-tree.pdgm)"
      ]
     },
     "execution_count": 10,
     "metadata": {},
     "output_type": "execute_result"
    }
   ],
   "source": [
    "hc.BitmapPHTrees.for_bitmap_levelset(hc.distance_transform(pict, signed=True), \n",
    "                                     save_to=\"binary-3d-tree.pdgm\")"
   ]
  },
  {
   "cell_type": "markdown",
   "metadata": {},
   "source": [
    "Load the data calculated as follows."
   ]
  },
  {
   "cell_type": "code",
   "execution_count": 11,
   "metadata": {},
   "outputs": [],
   "source": [
    "pdlist_with_tree = hc.PDList(\"binary-3d-tree.pdgm\")"
   ]
  },
  {
   "cell_type": "markdown",
   "metadata": {},
   "source": [
    "Let's use `bitmap_phtrees(0)` to retrieve the 0th PH's information."
   ]
  },
  {
   "cell_type": "code",
   "execution_count": 12,
   "metadata": {},
   "outputs": [],
   "source": [
    "phtree_0 = pdlist_with_tree.bitmap_phtrees(0)"
   ]
  },
  {
   "cell_type": "markdown",
   "metadata": {},
   "source": [
    "Use `pair_nodes_in_rectangle` to retrieve information on the two birth-death pairs `(-16.0, -10.0), (-15.0, -10.0)`. This retrieves all birth-death pairs (with corresponding tree nodes)\n",
    "within the specified range."
   ]
  },
  {
   "cell_type": "code",
   "execution_count": 13,
   "metadata": {},
   "outputs": [
    {
     "data": {
      "text/plain": [
       "[BitmapPHTrees.Node(-15.0, -10.0), BitmapPHTrees.Node(-16.0, -10.0)]"
      ]
     },
     "execution_count": 13,
     "metadata": {},
     "output_type": "execute_result"
    }
   ],
   "source": [
    "nodes_0 = phtree_0.pair_nodes_in_rectangle(-16, -15, -10, -10)\n",
    "nodes_0"
   ]
  },
  {
   "cell_type": "markdown",
   "metadata": {},
   "source": [
    "The extracted data is an instance of the class called `BitmapPHTrees.Node`. Next, let's visualize this information."
   ]
  },
  {
   "cell_type": "code",
   "execution_count": null,
   "metadata": {},
   "outputs": [],
   "source": [
    "fig = go.Figure(data=[\n",
    "    n.to_plotly3d() for n in nodes_0\n",
    "] + [\n",
    "    p3d.Bitmap3d(pict, color=\"black\", name=\"bitmap\")\n",
    "], layout=dict(scene=p3d.SimpleScene()))\n",
    "fig.update_traces(opacity=0.5, selector=dict(type=\"mesh3d\"))\n",
    "fig.update_traces(opacity=0.2, selector=dict(name=\"bitmap\"))\n",
    "fig.show()"
   ]
  },
  {
   "cell_type": "markdown",
   "metadata": {},
   "source": [
    "# Analysis of persistence diagram(1st) and its inverse analysis\n",
    "\n",
    "Let's analyze the first-order persistence diagram.\n",
    "\n",
    "First, plot a first-order persistence diagram."
   ]
  },
  {
   "cell_type": "code",
   "execution_count": null,
   "metadata": {},
   "outputs": [],
   "source": [
    "pd1 = pdlist.dth_diagram(1)\n",
    "pd1.histogram((-15.5, 10.5), 26).plot(colorbar={\"type\": \"log\"})"
   ]
  },
  {
   "cell_type": "markdown",
   "metadata": {},
   "source": [
    "There seems to be two birth-death pairs at (-4, 4). Let's check this."
   ]
  },
  {
   "cell_type": "code",
   "execution_count": null,
   "metadata": {},
   "outputs": [],
   "source": [
    "pairs = pd1.pairs_in_rectangle(-4, -4, 4, 4)\n",
    "pairs"
   ]
  },
  {
   "cell_type": "markdown",
   "metadata": {},
   "source": [
    "Let's take a look at what the two pairs represent. Because you are looking at the first-order persistence homology, you should be looking at some kind of ring structure. Let's calculate it.\n",
    "\n",
    "Here you use the optimal cycle. In point cloud analysis, we used optimal volume and volume-optimal cycle. It's similar (slightly different) Calculate with `Pair.optimal_1_cycle`."
   ]
  },
  {
   "cell_type": "code",
   "execution_count": null,
   "metadata": {},
   "outputs": [],
   "source": [
    "optimal_1_cycles = [pair.optimal_1_cycle() for pair in pairs]\n",
    "optimal_1_cycles[0].to_plotly3d"
   ]
  },
  {
   "cell_type": "markdown",
   "metadata": {},
   "source": [
    "Let's visualize this first. Displays the original voxel data superimposed."
   ]
  },
  {
   "cell_type": "code",
   "execution_count": null,
   "metadata": {},
   "outputs": [],
   "source": [
    "fig = go.Figure(data=[\n",
    "    cycle.to_plotly3d() for cycle in optimal_1_cycles\n",
    "] + [\n",
    "    p3d.Bitmap3d(pict, color=\"black\", name=\"bitmap\"),\n",
    "], layout=dict(scene=p3d.SimpleScene()))\n",
    "fig.update_traces(opacity=0.1, selector=dict(name=\"bitmap\"))\n",
    "fig.show()"
   ]
  },
  {
   "cell_type": "markdown",
   "metadata": {},
   "source": [
    "Next, let's see what path this ring structure is taking. Use `Optimal1CycleForBitmap.path`. You can get the coordinates of pixel at the passing point."
   ]
  },
  {
   "cell_type": "code",
   "execution_count": null,
   "metadata": {},
   "outputs": [],
   "source": [
    "optimal_1_cycles[0].path()"
   ]
  },
  {
   "cell_type": "markdown",
   "metadata": {},
   "source": [
    "##  Analysis of persistence diagram (secondary) and its inverse analysis\n",
    "Finally, let's analyze the second-order persistence diagram.\n",
    "\n",
    "Plot a second-order persistence diagram."
   ]
  },
  {
   "cell_type": "code",
   "execution_count": null,
   "metadata": {},
   "outputs": [],
   "source": [
    "pd2 = pdlist.dth_diagram(2)\n",
    "pd2.histogram((-20.5, 20.5), 41).plot(colorbar={\"type\": \"log\"})"
   ]
  },
  {
   "cell_type": "markdown",
   "metadata": {},
   "source": [
    "Examine the birth-death pair called `(4, 6)`. For inverse analysis, use `bitmap_phtrees(2)`. \n",
    "\n",
    "Let's look at the birth-death pair called (4, 6). First, extract all birth-death pairs (4, 6)(nodes of the tree corresponding to) with `pair_nodes_in_rectangle`."
   ]
  },
  {
   "cell_type": "code",
   "execution_count": null,
   "metadata": {},
   "outputs": [],
   "source": [
    "phtree_2 = pdlist_with_tree.bitmap_phtrees(2)\n",
    "nodes_2 = phtree_2.pair_nodes_in_rectangle(4, 4, 6, 6)\n",
    "nodes_2"
   ]
  },
  {
   "cell_type": "markdown",
   "metadata": {},
   "source": [
    "Two the following is the result of visualization.　You can see that the deeper part of the hollow area corresponds to this birth-death pair."
   ]
  },
  {
   "cell_type": "code",
   "execution_count": null,
   "metadata": {},
   "outputs": [],
   "source": [
    "fig = go.Figure(data=[\n",
    "    n.to_plotly3d() for n in nodes_2\n",
    "] + [\n",
    "    p3d.Bitmap3d(pict, color=\"black\", name=\"bitmap\")\n",
    "], layout=dict(scene=p3d.SimpleScene()))\n",
    "fig.update_traces(opacity=0.2, selector=dict(name=\"bitmap\"))\n",
    "fig.show()"
   ]
  },
  {
   "cell_type": "code",
   "execution_count": null,
   "metadata": {},
   "outputs": [],
   "source": []
  }
 ],
 "metadata": {
  "kernelspec": {
   "display_name": "Python 3",
   "language": "python",
   "name": "python3"
  },
  "language_info": {
   "codemirror_mode": {
    "name": "ipython",
    "version": 3
   },
   "file_extension": ".py",
   "mimetype": "text/x-python",
   "name": "python",
   "nbconvert_exporter": "python",
   "pygments_lexer": "ipython3",
   "version": "3.8.5"
  }
 },
 "nbformat": 4,
 "nbformat_minor": 5
}
